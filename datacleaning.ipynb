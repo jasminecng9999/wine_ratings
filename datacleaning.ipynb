{
 "cells": [
  {
   "cell_type": "markdown",
   "metadata": {},
   "source": [
    "# Data Cleaning"
   ]
  },
  {
   "cell_type": "markdown",
   "metadata": {},
   "source": [
    "I downloaded this data from https://archive.ics.uci.edu/ml/datasets/wine+quality, and put the two csv sheets (one for the red wines dataset and one for the white wines dataset)."
   ]
  },
  {
   "cell_type": "code",
   "execution_count": 15,
   "metadata": {},
   "outputs": [],
   "source": [
    "import pandas as pd\n",
    "import numpy as np\n",
    "import matplotlib.pyplot as plt\n",
    "\n",
    "wines_red_data = pd.read_csv(\"winequality-red.csv\")\n",
    "wines_white_data = pd.read_csv(\"winequality-white.csv\", delimiter=\";\")"
   ]
  },
  {
   "cell_type": "markdown",
   "metadata": {},
   "source": [
    "The vast majority of this data was already cleaned, as I document in the data description. Each column was already an integer, so there wasn't much to clean here. I also checked for outliers or possible mislabeled data, but I believe that because this dataset is from a machine learning repository, the data came pretty clean already, with one outlier I found with a very high sugar level. However, when looking at that row, the outlier was simply a wine with a high sugar level, and I left it in as it wasn't incorrectly inputted data, but rather a data point I'd want to remain in our dataset."
   ]
  },
  {
   "cell_type": "code",
   "execution_count": 16,
   "metadata": {},
   "outputs": [
    {
     "name": "stdout",
     "output_type": "stream",
     "text": [
      "red wine dataset columns\n",
      "Index(['fixed acidity', 'volatile acidity', 'citric acid', 'residual sugar',\n",
      "       'chlorides', 'free sulfur dioxide', 'total sulfur dioxide', 'density',\n",
      "       'pH', 'sulphates', 'alcohol', 'quality'],\n",
      "      dtype='object')\n",
      "\n",
      " \n",
      "datatypes of red wine columns\n",
      "fixed acidity           float64\n",
      "volatile acidity        float64\n",
      "citric acid             float64\n",
      "residual sugar          float64\n",
      "chlorides               float64\n",
      "free sulfur dioxide     float64\n",
      "total sulfur dioxide    float64\n",
      "density                 float64\n",
      "pH                      float64\n",
      "sulphates               float64\n",
      "alcohol                 float64\n",
      "quality                   int64\n",
      "dtype: object\n",
      "\n",
      " \n",
      "white wine dataset columns\n",
      "Index(['fixed acidity', 'volatile acidity', 'citric acid', 'residual sugar',\n",
      "       'chlorides', 'free sulfur dioxide', 'total sulfur dioxide', 'density',\n",
      "       'pH', 'sulphates', 'alcohol', 'quality'],\n",
      "      dtype='object')\n",
      "\n",
      " \n",
      "datatypes of white wine columns\n",
      "fixed acidity           float64\n",
      "volatile acidity        float64\n",
      "citric acid             float64\n",
      "residual sugar          float64\n",
      "chlorides               float64\n",
      "free sulfur dioxide     float64\n",
      "total sulfur dioxide    float64\n",
      "density                 float64\n",
      "pH                      float64\n",
      "sulphates               float64\n",
      "alcohol                 float64\n",
      "quality                   int64\n",
      "dtype: object\n"
     ]
    }
   ],
   "source": [
    "print(\"red wine dataset columns\")\n",
    "print(wines_red_data.columns)\n",
    "print(\"\\n \\ndatatypes of red wine columns\")\n",
    "print(wines_red_data.dtypes)\n",
    "print(\"\\n \\nwhite wine dataset columns\")\n",
    "print(wines_white_data.columns)\n",
    "print(\"\\n \\ndatatypes of white wine columns\")\n",
    "print(wines_white_data.dtypes)"
   ]
  },
  {
   "cell_type": "markdown",
   "metadata": {},
   "source": [
    "We did have two separate tables, one for red and one for white. We combined the two tables, and added a column to note whether it's red or white. This will allow us to do three types of analysis and answering, one for wines overall, one for red wines, and one for white."
   ]
  },
  {
   "cell_type": "code",
   "execution_count": 17,
   "metadata": {},
   "outputs": [
    {
     "name": "stdout",
     "output_type": "stream",
     "text": [
      "1599 observations for red wine\n",
      "4898 observations for white wine\n"
     ]
    }
   ],
   "source": [
    "wines_red_data[\"wine color\"] = \"red\"\n",
    "wines_white_data[\"wine color\"] = \"white\"\n",
    "print(\"{} observations for red wine\".format(len(wines_red_data)))\n",
    "print(\"{} observations for white wine\".format(len(wines_white_data)))"
   ]
  },
  {
   "cell_type": "markdown",
   "metadata": {},
   "source": [
    "Because our concatenated data is severely imbalanced, this could affect our analysis when we consider the different feature importances for wine rating that depend on wine color. For example, the general important features for wine rating will be more aligned with the important features we find for white wine since the data for white wine dominate around 75% of our dataset. Therefore, we should balance the data for both types by randomly selecting 1599 samples of the 4898 white wines. "
   ]
  },
  {
   "cell_type": "code",
   "execution_count": 18,
   "metadata": {},
   "outputs": [],
   "source": [
    "wines_white_data = wines_white_data.sample(frac = .33) "
   ]
  },
  {
   "cell_type": "code",
   "execution_count": 19,
   "metadata": {},
   "outputs": [
    {
     "name": "stdout",
     "output_type": "stream",
     "text": [
      "1599 observations for red wine\n",
      "1616 observations for newly sampled white wine\n"
     ]
    }
   ],
   "source": [
    "print(\"{} observations for red wine\".format(len(wines_red_data)))\n",
    "print(\"{} observations for newly sampled white wine\".format(len(wines_white_data)))"
   ]
  },
  {
   "cell_type": "code",
   "execution_count": 20,
   "metadata": {},
   "outputs": [],
   "source": [
    "wines = pd.concat([wines_red_data, wines_white_data])"
   ]
  },
  {
   "cell_type": "markdown",
   "metadata": {},
   "source": [
    "We reformatted column names that they'd be easier to refer to"
   ]
  },
  {
   "cell_type": "code",
   "execution_count": 21,
   "metadata": {},
   "outputs": [],
   "source": [
    "new_column_names = [column.replace(' ', '_') for column in wines.columns]\n",
    "new_column_names[11] = 'rating'\n",
    "wines.columns = new_column_names"
   ]
  },
  {
   "cell_type": "markdown",
   "metadata": {},
   "source": [
    "There's a lot of columns here, so we dropped the three acidity columns (as pH should be a good indicator for that, and we dropped the free sulfur dioxide column as well since total sulfur dioxide is present."
   ]
  },
  {
   "cell_type": "code",
   "execution_count": 22,
   "metadata": {},
   "outputs": [],
   "source": [
    "drop_columns = ['fixed_acidity', 'volatile_acidity', 'citric_acid', 'free_sulfur_dioxide']\n",
    "wines = wines.drop(drop_columns, axis='columns')"
   ]
  },
  {
   "cell_type": "markdown",
   "metadata": {},
   "source": [
    "We looked at the value counts of each column, but there wasn't much to clean up here"
   ]
  },
  {
   "cell_type": "code",
   "execution_count": 23,
   "metadata": {},
   "outputs": [
    {
     "name": "stdout",
     "output_type": "stream",
     "text": [
      "residual_sugar\n",
      "2.00     182\n",
      "1.80     170\n",
      "2.20     153\n",
      "2.10     149\n",
      "1.90     146\n",
      "        ... \n",
      "7.35       1\n",
      "19.45      1\n",
      "19.95      1\n",
      "19.40      1\n",
      "12.55      1\n",
      "Name: residual_sugar, Length: 264, dtype: int64\n",
      "\n",
      "\n",
      "chlorides\n",
      "0.042    78\n",
      "0.045    72\n",
      "0.046    72\n",
      "0.036    68\n",
      "0.080    67\n",
      "         ..\n",
      "0.358     1\n",
      "0.422     1\n",
      "0.194     1\n",
      "0.133     1\n",
      "0.125     1\n",
      "Name: chlorides, Length: 203, dtype: int64\n",
      "\n",
      "\n",
      "total_sulfur_dioxide\n",
      "28.0     44\n",
      "24.0     36\n",
      "18.0     35\n",
      "15.0     35\n",
      "23.0     34\n",
      "         ..\n",
      "366.5     1\n",
      "251.0     1\n",
      "313.0     1\n",
      "272.0     1\n",
      "238.5     1\n",
      "Name: total_sulfur_dioxide, Length: 251, dtype: int64\n",
      "\n",
      "\n",
      "density\n",
      "0.99720    51\n",
      "0.99760    45\n",
      "0.99800    40\n",
      "0.99620    40\n",
      "0.99680    37\n",
      "           ..\n",
      "0.99581     1\n",
      "0.99761     1\n",
      "0.99241     1\n",
      "0.99235     1\n",
      "0.99385     1\n",
      "Name: density, Length: 860, dtype: int64\n",
      "\n",
      "\n",
      "pH\n",
      "3.16    98\n",
      "3.30    88\n",
      "3.26    81\n",
      "3.22    80\n",
      "3.20    80\n",
      "        ..\n",
      "3.77     1\n",
      "2.84     1\n",
      "3.64     1\n",
      "2.82     1\n",
      "3.85     1\n",
      "Name: pH, Length: 103, dtype: int64\n",
      "\n",
      "\n",
      "sulphates\n",
      "0.54    118\n",
      "0.50    111\n",
      "0.58    106\n",
      "0.60    100\n",
      "0.56     95\n",
      "       ... \n",
      "1.59      1\n",
      "1.26      1\n",
      "1.20      1\n",
      "1.09      1\n",
      "1.98      1\n",
      "Name: sulphates, Length: 110, dtype: int64\n",
      "\n",
      "\n",
      "alcohol\n",
      "9.500000     218\n",
      "9.400000     170\n",
      "9.200000     141\n",
      "10.500000    128\n",
      "9.800000     118\n",
      "            ... \n",
      "13.050000      1\n",
      "11.950000      1\n",
      "9.566667       1\n",
      "11.066667      1\n",
      "9.733333       1\n",
      "Name: alcohol, Length: 93, dtype: int64\n",
      "\n",
      "\n",
      "rating\n",
      "6    1349\n",
      "5    1181\n",
      "7     480\n",
      "4     112\n",
      "8      77\n",
      "3      14\n",
      "9       2\n",
      "Name: rating, dtype: int64\n",
      "\n",
      "\n",
      "wine_color\n",
      "white    1616\n",
      "red      1599\n",
      "Name: wine_color, dtype: int64\n",
      "\n",
      "\n"
     ]
    }
   ],
   "source": [
    "for column in wines:\n",
    "    print(column)\n",
    "    print(wines[column].value_counts())\n",
    "    print(\"\\n\")"
   ]
  },
  {
   "cell_type": "code",
   "execution_count": 24,
   "metadata": {},
   "outputs": [
    {
     "data": {
      "text/html": [
       "<div>\n",
       "<style scoped>\n",
       "    .dataframe tbody tr th:only-of-type {\n",
       "        vertical-align: middle;\n",
       "    }\n",
       "\n",
       "    .dataframe tbody tr th {\n",
       "        vertical-align: top;\n",
       "    }\n",
       "\n",
       "    .dataframe thead th {\n",
       "        text-align: right;\n",
       "    }\n",
       "</style>\n",
       "<table border=\"1\" class=\"dataframe\">\n",
       "  <thead>\n",
       "    <tr style=\"text-align: right;\">\n",
       "      <th></th>\n",
       "      <th>residual_sugar</th>\n",
       "      <th>chlorides</th>\n",
       "      <th>total_sulfur_dioxide</th>\n",
       "      <th>density</th>\n",
       "      <th>pH</th>\n",
       "      <th>sulphates</th>\n",
       "      <th>alcohol</th>\n",
       "      <th>rating</th>\n",
       "      <th>wine_color</th>\n",
       "    </tr>\n",
       "  </thead>\n",
       "  <tbody>\n",
       "    <tr>\n",
       "      <th>0</th>\n",
       "      <td>1.9</td>\n",
       "      <td>0.076</td>\n",
       "      <td>34.0</td>\n",
       "      <td>0.9978</td>\n",
       "      <td>3.51</td>\n",
       "      <td>0.56</td>\n",
       "      <td>9.4</td>\n",
       "      <td>5</td>\n",
       "      <td>red</td>\n",
       "    </tr>\n",
       "    <tr>\n",
       "      <th>1</th>\n",
       "      <td>2.6</td>\n",
       "      <td>0.098</td>\n",
       "      <td>67.0</td>\n",
       "      <td>0.9968</td>\n",
       "      <td>3.20</td>\n",
       "      <td>0.68</td>\n",
       "      <td>9.8</td>\n",
       "      <td>5</td>\n",
       "      <td>red</td>\n",
       "    </tr>\n",
       "    <tr>\n",
       "      <th>2</th>\n",
       "      <td>2.3</td>\n",
       "      <td>0.092</td>\n",
       "      <td>54.0</td>\n",
       "      <td>0.9970</td>\n",
       "      <td>3.26</td>\n",
       "      <td>0.65</td>\n",
       "      <td>9.8</td>\n",
       "      <td>5</td>\n",
       "      <td>red</td>\n",
       "    </tr>\n",
       "    <tr>\n",
       "      <th>3</th>\n",
       "      <td>1.9</td>\n",
       "      <td>0.075</td>\n",
       "      <td>60.0</td>\n",
       "      <td>0.9980</td>\n",
       "      <td>3.16</td>\n",
       "      <td>0.58</td>\n",
       "      <td>9.8</td>\n",
       "      <td>6</td>\n",
       "      <td>red</td>\n",
       "    </tr>\n",
       "    <tr>\n",
       "      <th>4</th>\n",
       "      <td>1.9</td>\n",
       "      <td>0.076</td>\n",
       "      <td>34.0</td>\n",
       "      <td>0.9978</td>\n",
       "      <td>3.51</td>\n",
       "      <td>0.56</td>\n",
       "      <td>9.4</td>\n",
       "      <td>5</td>\n",
       "      <td>red</td>\n",
       "    </tr>\n",
       "    <tr>\n",
       "      <th>...</th>\n",
       "      <td>...</td>\n",
       "      <td>...</td>\n",
       "      <td>...</td>\n",
       "      <td>...</td>\n",
       "      <td>...</td>\n",
       "      <td>...</td>\n",
       "      <td>...</td>\n",
       "      <td>...</td>\n",
       "      <td>...</td>\n",
       "    </tr>\n",
       "    <tr>\n",
       "      <th>2172</th>\n",
       "      <td>7.8</td>\n",
       "      <td>0.042</td>\n",
       "      <td>117.0</td>\n",
       "      <td>0.9960</td>\n",
       "      <td>3.23</td>\n",
       "      <td>0.37</td>\n",
       "      <td>9.2</td>\n",
       "      <td>5</td>\n",
       "      <td>white</td>\n",
       "    </tr>\n",
       "    <tr>\n",
       "      <th>1847</th>\n",
       "      <td>11.5</td>\n",
       "      <td>0.049</td>\n",
       "      <td>157.0</td>\n",
       "      <td>0.9980</td>\n",
       "      <td>3.27</td>\n",
       "      <td>0.44</td>\n",
       "      <td>9.0</td>\n",
       "      <td>5</td>\n",
       "      <td>white</td>\n",
       "    </tr>\n",
       "    <tr>\n",
       "      <th>925</th>\n",
       "      <td>2.9</td>\n",
       "      <td>0.047</td>\n",
       "      <td>100.0</td>\n",
       "      <td>0.9936</td>\n",
       "      <td>3.28</td>\n",
       "      <td>0.43</td>\n",
       "      <td>9.8</td>\n",
       "      <td>5</td>\n",
       "      <td>white</td>\n",
       "    </tr>\n",
       "    <tr>\n",
       "      <th>640</th>\n",
       "      <td>1.2</td>\n",
       "      <td>0.047</td>\n",
       "      <td>127.0</td>\n",
       "      <td>0.9910</td>\n",
       "      <td>3.34</td>\n",
       "      <td>0.50</td>\n",
       "      <td>11.0</td>\n",
       "      <td>7</td>\n",
       "      <td>white</td>\n",
       "    </tr>\n",
       "    <tr>\n",
       "      <th>532</th>\n",
       "      <td>13.2</td>\n",
       "      <td>0.067</td>\n",
       "      <td>178.0</td>\n",
       "      <td>0.9976</td>\n",
       "      <td>3.01</td>\n",
       "      <td>0.48</td>\n",
       "      <td>9.0</td>\n",
       "      <td>6</td>\n",
       "      <td>white</td>\n",
       "    </tr>\n",
       "  </tbody>\n",
       "</table>\n",
       "<p>3215 rows × 9 columns</p>\n",
       "</div>"
      ],
      "text/plain": [
       "      residual_sugar  chlorides  total_sulfur_dioxide  density    pH  \\\n",
       "0                1.9      0.076                  34.0   0.9978  3.51   \n",
       "1                2.6      0.098                  67.0   0.9968  3.20   \n",
       "2                2.3      0.092                  54.0   0.9970  3.26   \n",
       "3                1.9      0.075                  60.0   0.9980  3.16   \n",
       "4                1.9      0.076                  34.0   0.9978  3.51   \n",
       "...              ...        ...                   ...      ...   ...   \n",
       "2172             7.8      0.042                 117.0   0.9960  3.23   \n",
       "1847            11.5      0.049                 157.0   0.9980  3.27   \n",
       "925              2.9      0.047                 100.0   0.9936  3.28   \n",
       "640              1.2      0.047                 127.0   0.9910  3.34   \n",
       "532             13.2      0.067                 178.0   0.9976  3.01   \n",
       "\n",
       "      sulphates  alcohol  rating wine_color  \n",
       "0          0.56      9.4       5        red  \n",
       "1          0.68      9.8       5        red  \n",
       "2          0.65      9.8       5        red  \n",
       "3          0.58      9.8       6        red  \n",
       "4          0.56      9.4       5        red  \n",
       "...         ...      ...     ...        ...  \n",
       "2172       0.37      9.2       5      white  \n",
       "1847       0.44      9.0       5      white  \n",
       "925        0.43      9.8       5      white  \n",
       "640        0.50     11.0       7      white  \n",
       "532        0.48      9.0       6      white  \n",
       "\n",
       "[3215 rows x 9 columns]"
      ]
     },
     "execution_count": 24,
     "metadata": {},
     "output_type": "execute_result"
    }
   ],
   "source": [
    "wines"
   ]
  },
  {
   "cell_type": "code",
   "execution_count": 25,
   "metadata": {},
   "outputs": [],
   "source": [
    "wines.to_csv('wine.csv',index=False)"
   ]
  }
 ],
 "metadata": {
  "kernelspec": {
   "display_name": "Python 3",
   "language": "python",
   "name": "python3"
  },
  "language_info": {
   "codemirror_mode": {
    "name": "ipython",
    "version": 3
   },
   "file_extension": ".py",
   "mimetype": "text/x-python",
   "name": "python",
   "nbconvert_exporter": "python",
   "pygments_lexer": "ipython3",
   "version": "3.8.3"
  }
 },
 "nbformat": 4,
 "nbformat_minor": 4
}
